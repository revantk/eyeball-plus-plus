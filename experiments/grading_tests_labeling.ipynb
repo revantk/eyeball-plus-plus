{
 "cells": [
  {
   "cell_type": "markdown",
   "metadata": {},
   "source": [
    "# Grading via Labeling"
   ]
  },
  {
   "cell_type": "markdown",
   "metadata": {},
   "source": [
    "### 1. Load Checkpoints\n",
    "Import checkpoints from the Eyeball API"
   ]
  },
  {
   "cell_type": "code",
   "execution_count": 1,
   "metadata": {},
   "outputs": [],
   "source": [
    "import sys\n",
    "sys.path.append('../')\n",
    "import eyeball_pp\n",
    "from eyeball_pp import Checkpoint\n",
    "from typing import List\n",
    "\n",
    "def get_checkpoints(task_name: str) -> List[Checkpoint]:\n",
    "    checkpoints_to_review = []\n",
    "\n",
    "    recorder = eyeball_pp.get_default_recorder()\n",
    "    input_hashes = recorder.get_input_hashes(task_name=task_name)\n",
    "\n",
    "    for input_hash in input_hashes:\n",
    "        checkpoints = recorder.get_latest_checkpoints(\n",
    "            task_name, input_hash, num_checkpoints=4\n",
    "        )\n",
    "        for checkpoint in checkpoints:\n",
    "            if checkpoint.output:\n",
    "                checkpoints_to_review.append(checkpoint)\n",
    "\n",
    "    return checkpoints_to_review\n",
    "\n",
    "checkpoints = get_checkpoints(task_name='answer_openai')"
   ]
  },
  {
   "cell_type": "markdown",
   "metadata": {},
   "source": [
    "### 2. Define the Labeler"
   ]
  },
  {
   "cell_type": "code",
   "execution_count": 30,
   "metadata": {},
   "outputs": [],
   "source": [
    "from dataclasses import dataclass, asdict\n",
    "import json\n",
    "import openai\n",
    "from typing import Tuple\n",
    "\n",
    "@dataclass\n",
    "class LLMRequest:\n",
    "    inputs: dict[str, str]\n",
    "    intermediaries: dict[str, str]\n",
    "    output: str\n",
    "\n",
    "def _execute_labeler(\n",
    "    input_variables: dict[str, str],\n",
    "    intermediate_variables: dict[str, str],\n",
    "    output: str,\n",
    "    labels: dict[str, str],\n",
    ") -> Tuple[str, str]:\n",
    "    system_msg = f\"\"\"\n",
    "You are an evaluator trying to label the output of an agent. Keeping the inputs and intermediates in mind, label the output based on the labeling criteria. You always use the function provided.\n",
    "    \n",
    "Labeling Criteria: \n",
    "{json.dumps(labels)}\n",
    "\"\"\"\n",
    "\n",
    "    llm_request = LLMRequest(\n",
    "        inputs=input_variables, intermediaries=intermediate_variables, output=output\n",
    "    )\n",
    "\n",
    "    user_msg = f\"\"\"\n",
    "{json.dumps(asdict(llm_request))}\n",
    "\n",
    "Given the above inputs, intermediaries and output, report your label along with the reasoning. Think step by step.\n",
    "\"\"\"\n",
    "    functions = [\n",
    "        {\n",
    "            \"name\": \"report_label\",\n",
    "            \"description\": \"report the result of the evaluation\",\n",
    "            \"parameters\": {\n",
    "                \"type\": \"object\",\n",
    "                \"properties\": {\n",
    "                    \"label\": {\n",
    "                        \"type\": \"string\",\n",
    "                        \"enum\": list(labels.keys()),\n",
    "                        \"description\": \"The label for the agent's output given the labeling criteria\"\n",
    "                    },\n",
    "                    \"reason\": {\n",
    "                        \"type\": \"string\",\n",
    "                        \"description\": \"The reason for the assigned label.\"\n",
    "                    }\n",
    "                },\n",
    "                \"required\": [\"label\", \"reason\"],\n",
    "            }\n",
    "        }\n",
    "    ]\n",
    "\n",
    "    response = openai.ChatCompletion.create(  # type: ignore\n",
    "        model=\"gpt-4\",\n",
    "        temperature=0.1,\n",
    "        messages=[\n",
    "            {\"role\": \"system\", \"content\": system_msg},\n",
    "            {\"role\": \"user\", \"content\": user_msg},\n",
    "        ],\n",
    "        functions=functions,\n",
    "        function_call={\"name\": \"report_label\"},\n",
    "    )[\"choices\"][0][\"message\"]\n",
    "    assert response[\"content\"] is None\n",
    "    assert response[\"function_call\"][\"name\"] == \"report_label\"\n",
    "    ratings = json.loads(response[\"function_call\"][\"arguments\"])\n",
    "    return ratings\n",
    "\n",
    "def run_evaluation(checkpoint: Checkpoint):\n",
    "    labels = {\n",
    "        \"L0\": \"The answer is correct given the context and is derived solely from the context without the use of external unlisted sources. All source quotes listed exist in the provided the context and are relevant to the answer.\",\n",
    "        \"L1\": \"The answer is correct given the context but is likely also derived from external unlisted sources. All source quotes listed exist in the provided the context and are relevant to the answer.\",\n",
    "        \"L2\": \"The answer is correct given the context. All sources quotes listed exist in the provided the context BUT are not all relevant to the answer.\",\n",
    "        \"L3\": \"The answer is correct given the context. The sources listed do not exist in the provided the context.\",\n",
    "        \"L4\": \"The answer is correct given the context. No sources are listed.\",\n",
    "        \"L5\": \"The answer is incorrect given the context.\"\n",
    "    }\n",
    "\n",
    "    return _execute_labeler(\n",
    "        input_variables=checkpoint.input_variables,\n",
    "        intermediate_variables=checkpoint.intermediary_state,\n",
    "        output=checkpoint.output,\n",
    "        labels=labels,\n",
    "    )"
   ]
  },
  {
   "cell_type": "markdown",
   "metadata": {},
   "source": [
    "### 3. Run Evaluations\n",
    "Here we test different outputs of the same checkpoint"
   ]
  },
  {
   "cell_type": "code",
   "execution_count": 16,
   "metadata": {},
   "outputs": [
    {
     "name": "stdout",
     "output_type": "stream",
     "text": [
      "Question: \"What percentage of equity should be allocated to a co-founder in a startup?\"\n",
      "Response: {'answer': \"The allocation of equity to a co-founder in a startup can vary greatly depending on the circumstances. However, before factoring in dilution from investors, the founders should end up with about 50% of the company, total. This is split equally among all the founders. It's important to note that fairness, and the perception of fairness, is much more valuable than owning a large stake. The person with the idea should not command a premium on equity allocation. Equity should be for services to be rendered in the tough initial years when the risk is highest and capital is nonexistent.\", 'sources': [{'source': 'https://avc.com/2011/04/how-to-allocate-founder-and-employee-equity/', 'quote': 'Before factoring in dilution from investors, the founders should end up with about 50% of the company, total. Each of the next five layers should end up with about 10% of the company, split equally among everyone in the layer.'}, {'source': 'https://avc.com/2011/04/how-to-allocate-founder-and-employee-equity/', 'quote': 'Fairness, and the perception of fairness, is much more valuable than owning a large stake.'}, {'source': 'https://avc.com/2011/04/how-to-allocate-founder-and-employee-equity/', 'quote': 'I particularly like his notion that the person with the idea should not command a premium on equity allocation.'}, {'source': 'https://avc.com/2011/04/how-to-allocate-founder-and-employee-equity/', 'quote': \"What Joel's post makes clear is that founder equity should be for services to be rendered in the tough initial year(s) when the risk is highest and capital (ie cash comp) is nonexistent.\"}]}\n"
     ]
    }
   ],
   "source": [
    "def print_checkpoint(checkpoint: Checkpoint):\n",
    "    print(f\"Question: {checkpoint.input_variables['query']}\")\n",
    "    print(f\"Response: {checkpoint.output}\")\n",
    "\n",
    "selected_checkpoint = checkpoints[1]\n",
    "print_checkpoint(selected_checkpoint)"
   ]
  },
  {
   "cell_type": "markdown",
   "metadata": {},
   "source": [
    "#### L0 Response (Correct, Original)"
   ]
  },
  {
   "cell_type": "code",
   "execution_count": 17,
   "metadata": {},
   "outputs": [
    {
     "data": {
      "text/plain": [
       "{'label': 'L0',\n",
       " 'reason': 'The answer is correct given the context and is derived solely from the context without the use of external unlisted sources. The sources listed exist in the provided the context. The source quotes are relevant to the answer.'}"
      ]
     },
     "execution_count": 17,
     "metadata": {},
     "output_type": "execute_result"
    }
   ],
   "source": [
    "run_evaluation(selected_checkpoint)"
   ]
  },
  {
   "cell_type": "markdown",
   "metadata": {},
   "source": [
    "#### L1 Response (Answer derived externally)"
   ]
  },
  {
   "cell_type": "code",
   "execution_count": 32,
   "metadata": {},
   "outputs": [
    {
     "data": {
      "text/plain": [
       "{'label': 'L2',\n",
       " 'reason': 'The answer is correct given the context. All sources quotes listed exist in the provided the context but not all are relevant to the answer. The first two quotes listed in the sources do not relate to the question or the answer provided by the agent.'}"
      ]
     },
     "execution_count": 32,
     "metadata": {},
     "output_type": "execute_result"
    }
   ],
   "source": [
    "import copy\n",
    "\n",
    "# Tweak: Add \"Maxim Bernaustatis' alternate suggestion though is that the person with the idea should command a 20% premium on equity allocation\"\n",
    "bad_checkpoint = copy.deepcopy(selected_checkpoint)\n",
    "bad_checkpoint.output = \"\"\"{'answer': \"The allocation of equity to a co-founder in a startup can vary greatly depending on the circumstances. One suggestion is that before factoring in dilution from investors, the founders should end up with about 50% of the company, total. This is split equally among all the founders. It's important to note that fairness, and the perception of fairness, is much more valuable than owning a large stake. Maxim Bernaustatis' alternate suggestion though is that the person with the idea should command a 20% premium on equity allocation.\", 'sources': [{'source': 'https://avc.com/2011/04/how-to-allocate-time/', 'quote': 'Advisors take up a lot of time, spending over 20% of the time you have allocated to your startup.'}, {'source': 'https://avc.com/2011/04/how-to-allocate-time/', 'quote': 'Time, your single greatest resource, is much more valuable than the world's best cheese.'}, {'source': 'https://avc.com/2011/04/how-to-allocate-time/', 'quote': 'I particularly like his notion that the person with the idea should not command a premium on equity allocation.'}, {'source': 'https://avc.com/2011/04/how-to-allocate-founder-and-employee-equity/', 'quote': \"What Joel's post makes clear is that founder equity should be for services to be rendered in the tough initial year(s) when the risk is highest and capital (ie cash comp) is nonexistent.\"}]}\"\"\"\n",
    "run_evaluation(bad_checkpoint)"
   ]
  },
  {
   "cell_type": "markdown",
   "metadata": {},
   "source": [
    "#### L2 Response (Irrelevant Sources)"
   ]
  },
  {
   "cell_type": "code",
   "execution_count": 20,
   "metadata": {},
   "outputs": [
    {
     "data": {
      "text/plain": [
       "{'label': 'L2',\n",
       " 'reason': 'The answer is correct given the context. The sources listed exist in the provided the context. However, the source quotes are not all relevant to the answer. The first two quotes in the sources do not relate to the question or the answer provided by the agent.'}"
      ]
     },
     "execution_count": 20,
     "metadata": {},
     "output_type": "execute_result"
    }
   ],
   "source": [
    "import copy\n",
    "\n",
    "# Tweak: Change the first three source quotes to be irrelevant\n",
    "bad_checkpoint = copy.deepcopy(selected_checkpoint)\n",
    "bad_checkpoint.output = \"\"\"{'answer': \"The allocation of equity to a co-founder in a startup can vary greatly depending on the circumstances. However, before factoring in dilution from investors, the founders should end up with about 50% of the company, total. This is split equally among all the founders. It's important to note that fairness, and the perception of fairness, is much more valuable than owning a large stake. The person with the idea should not command a premium on equity allocation. Equity should be for services to be rendered in the tough initial years when the risk is highest and capital is nonexistent.\", 'sources': [{'source': 'https://avc.com/2011/04/how-to-allocate-time/', 'quote': 'Advisors take up a lot of time, spending over 20% of the time you have allocated to your startup.'}, {'source': 'https://avc.com/2011/04/how-to-allocate-time/', 'quote': 'Time, your single greatest resource, is much more valuable than the world's best cheese.'}, {'source': 'https://avc.com/2011/04/how-to-allocate-time/', 'quote': 'I particularly like his notion that the person with the idea should not command a premium on equity allocation.'}, {'source': 'https://avc.com/2011/04/how-to-allocate-founder-and-employee-equity/', 'quote': \"What Joel's post makes clear is that founder equity should be for services to be rendered in the tough initial year(s) when the risk is highest and capital (ie cash comp) is nonexistent.\"}]}\"\"\"\n",
    "run_evaluation(bad_checkpoint)\n"
   ]
  },
  {
   "cell_type": "markdown",
   "metadata": {},
   "source": [
    "#### L3 Response (Nonexistent Sources)"
   ]
  },
  {
   "cell_type": "code",
   "execution_count": 31,
   "metadata": {},
   "outputs": [
    {
     "data": {
      "text/plain": [
       "{'label': 'L2',\n",
       " 'reason': 'The answer is correct given the context. All sources quotes listed exist in the provided the context but are not all relevant to the answer. The first quote listed in the sources does not exist in the provided context.'}"
      ]
     },
     "execution_count": 31,
     "metadata": {},
     "output_type": "execute_result"
    }
   ],
   "source": [
    "import copy\n",
    "\n",
    "# Tweak: Change the source quotes so they don't actually come from the context\n",
    "bad_checkpoint = copy.deepcopy(selected_checkpoint)\n",
    "bad_checkpoint.output = \"\"\"{'answer': \"The allocation of equity to a co-founder in a startup can vary greatly depending on the circumstances. However, before factoring in dilution from investors, the founders should end up with about 50% of the company, total. This is split equally among all the founders. It's important to note that fairness, and the perception of fairness, is much more valuable than owning a large stake. The person with the idea should not command a premium on equity allocation. Equity should be for services to be rendered in the tough initial years when the risk is highest and capital is nonexistent.\", 'sources': [{'source': 'https://avc.com/2011/04/how-to-allocate-founder-and-employee-equity/', 'quote': 'Give your cofounder 50%. Give them half, don't waste your time arguing.'}, {'source': 'https://avc.com/2011/04/how-to-allocate-founder-and-employee-equity/', 'quote': 'Fairness, and the perception of fairness, is what matters when deciding equity for a cofounder.'}]}\"\"\"\n",
    "run_evaluation(bad_checkpoint)"
   ]
  },
  {
   "cell_type": "markdown",
   "metadata": {},
   "source": [
    "#### L4 Response (No Sources)"
   ]
  },
  {
   "cell_type": "code",
   "execution_count": 18,
   "metadata": {},
   "outputs": [
    {
     "name": "stdout",
     "output_type": "stream",
     "text": [
      "{'label': 'L4', 'reason': 'The answer provided by the agent is correct and is derived from the context provided. However, the agent failed to list the sources from which the information was derived, hence the label L4.'}\n"
     ]
    }
   ],
   "source": [
    "import copy\n",
    "\n",
    "# Tweak: Change the source quotes so they don't actually come from the context\n",
    "bad_checkpoint = copy.deepcopy(selected_checkpoint)\n",
    "bad_checkpoint.output = \"\"\"{'answer': \"The allocation of equity to a co-founder in a startup can vary greatly depending on the circumstances. However, before factoring in dilution from investors, the founders should end up with about 50% of the company, total. This is split equally among all the founders. It's important to note that fairness, and the perception of fairness, is much more valuable than owning a large stake. The person with the idea should not command a premium on equity allocation. Equity should be for services to be rendered in the tough initial years when the risk is highest and capital is nonexistent.\", 'sources': []}\"\"\"\n",
    "run_evaluation(bad_checkpoint)\n"
   ]
  },
  {
   "cell_type": "markdown",
   "metadata": {},
   "source": [
    "#### L5 Response (Bad Answer)"
   ]
  },
  {
   "cell_type": "code",
   "execution_count": 19,
   "metadata": {},
   "outputs": [
    {
     "data": {
      "text/plain": [
       "{'label': 'L5',\n",
       " 'reason': \"The answer provided by the agent is incorrect. The context states that before factoring in dilution from investors, the founders should end up with about 50% of the company, total. Each of the next five layers should end up with about 10% of the company, split equally among everyone in the layer. However, the agent's answer states that advisors should end up with about 90% of the company, total. This is not supported by the context.\"}"
      ]
     },
     "execution_count": 19,
     "metadata": {},
     "output_type": "execute_result"
    }
   ],
   "source": [
    "import copy\n",
    "\n",
    "# Tweak: Change the answer so its irrelevant\n",
    "bad_checkpoint = copy.deepcopy(selected_checkpoint)\n",
    "bad_checkpoint.output = \"\"\"{'answer': \"The allocation of equity to an advisor in a company can vary greatly depending on the circumstances. However, before factoring in dilution, advisors should end up with about 90% of the company, total. This is split equally among all the advisors.\", 'sources': [{'source': 'https://avc.com/2011/04/how-to-allocate-founder-and-employee-equity/', 'quote': 'Before factoring in dilution from investors, the founders should end up with about 50% of the company, total. Each of the next five layers should end up with about 10% of the company, split equally among everyone in the layer.'}, {'source': 'https://avc.com/2011/04/how-to-allocate-founder-and-employee-equity/', 'quote': 'Fairness, and the perception of fairness, is much more valuable than owning a large stake.'}, {'source': 'https://avc.com/2011/04/how-to-allocate-founder-and-employee-equity/', 'quote': 'I particularly like his notion that the person with the idea should not command a premium on equity allocation.'}, {'source': 'https://avc.com/2011/04/how-to-allocate-founder-and-employee-equity/', 'quote': \"What Joel's post makes clear is that founder equity should be for services to be rendered in the tough initial year(s) when the risk is highest and capital (ie cash comp) is nonexistent.\"}]}\"\"\"\n",
    "run_evaluation(bad_checkpoint)\n"
   ]
  },
  {
   "cell_type": "code",
   "execution_count": null,
   "metadata": {},
   "outputs": [],
   "source": []
  }
 ],
 "metadata": {
  "kernelspec": {
   "display_name": "venv",
   "language": "python",
   "name": "python3"
  },
  "language_info": {
   "codemirror_mode": {
    "name": "ipython",
    "version": 3
   },
   "file_extension": ".py",
   "mimetype": "text/x-python",
   "name": "python",
   "nbconvert_exporter": "python",
   "pygments_lexer": "ipython3",
   "version": "3.9.13"
  },
  "orig_nbformat": 4
 },
 "nbformat": 4,
 "nbformat_minor": 2
}
