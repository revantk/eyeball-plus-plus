{
 "cells": [
  {
   "cell_type": "markdown",
   "metadata": {},
   "source": [
    "# Example: Question Answering w/ Langchain\n",
    "This notebook shows how evaluation can seamlessly be integrated with a standard Langchain question-answering workflow."
   ]
  },
  {
   "cell_type": "code",
   "execution_count": null,
   "metadata": {},
   "outputs": [],
   "source": [
    "%pip install eyeball_pp openai pyyaml rich langchain chromadb"
   ]
  },
  {
   "cell_type": "markdown",
   "metadata": {},
   "source": [
    "### 1. Index the Content"
   ]
  },
  {
   "cell_type": "code",
   "execution_count": 1,
   "metadata": {},
   "outputs": [],
   "source": [
    "from langchain.chains import RetrievalQA\n",
    "from langchain.schema import Document\n",
    "from langchain.embeddings.openai import OpenAIEmbeddings\n",
    "from langchain.chat_models import ChatOpenAI\n",
    "from langchain.vectorstores import Chroma\n",
    "\n",
    "\n",
    "def _to_documents(content: list[str]) -> list[Document]:\n",
    "    return [Document(page_content=page) for page in content]\n",
    "\n",
    "def _from_documents(documents: list[Document]) -> list[str]:\n",
    "    return [document.page_content for document in documents]\n",
    "\n",
    "\n",
    "content = [\n",
    "    \"The quick brown fox jumps over the lazy dog\",\n",
    "    \"The lazy dog which is not brown jumps over the slow white rabbit\",\n",
    "    \"Irrelevant context #1\",\n",
    "    \"Irrelevant context #2\",\n",
    "]\n",
    "texts = _to_documents(content)\n",
    "\n",
    "embeddings = OpenAIEmbeddings()\n",
    "docsearch = Chroma.from_documents(texts, embeddings)"
   ]
  },
  {
   "cell_type": "markdown",
   "metadata": {},
   "source": [
    "### 1. Define your LLM task\n",
    "Define the method and add `record_task` decorator to record. Also use `record_intermediary_state` to record metadata that can be used for better evaluations."
   ]
  },
  {
   "cell_type": "code",
   "execution_count": 2,
   "metadata": {},
   "outputs": [],
   "source": [
    "import eyeball_pp\n",
    "import openai\n",
    "\n",
    "openai.api_key = \"your-api-key\"\n",
    "\n",
    "# Setting a sample_rate of 1 means that every call to the ask function will be recorded.\n",
    "# You might want to change this on production to a lower value like 0.1 if you only want to record 10% of the calls.\n",
    "eyeball_pp.set_config(sample_rate=1)\n",
    "\n",
    "# Using this decorator, the input and outputs of the function will be recorded\n",
    "@eyeball_pp.record_task(args_to_record=[\"question\"])\n",
    "def ask(question: str) -> str:\n",
    "    # eval params can be updated externally when you are trying to re-evaluate \n",
    "    # this method, as will be shown below\n",
    "    model = eyeball_pp.get_eval_param(\"model\") or \"gpt-3.5-turbo\"\n",
    "\n",
    "    chain = RetrievalQA.from_llm(\n",
    "        llm=ChatOpenAI(model=model),\n",
    "        retriever=docsearch.as_retriever(),\n",
    "        return_source_documents=True)\n",
    "    result = chain(question)\n",
    "\n",
    "    # Recording the context as an intermediary state will help the evaluator\n",
    "    # perform better (eg. by comparing output with the context produced)\n",
    "    context = _from_documents(result['source_documents'])\n",
    "    eyeball_pp.record_intermediary_state(\"context\", context)\n",
    "\n",
    "    return result['result']"
   ]
  },
  {
   "cell_type": "markdown",
   "metadata": {},
   "source": [
    "### 2. Initial Run\n",
    "Run the task with a few different inputs."
   ]
  },
  {
   "cell_type": "code",
   "execution_count": 3,
   "metadata": {},
   "outputs": [
    {
     "name": "stdout",
     "output_type": "stream",
     "text": [
      "Answer #1: \"The color of the fox is not specified in the given context.\"\n",
      "Answer #2: \"The color of the dog is not specified in the given context.\"\n"
     ]
    }
   ],
   "source": [
    "answer1 = ask(\"What color is the fox?\")\n",
    "print(f'Answer #1: \"{answer1}\"')\n",
    "\n",
    "answer2 = ask(\"What color is the dog?\")\n",
    "print(f'Answer #2: \"{answer2}\"')"
   ]
  },
  {
   "cell_type": "markdown",
   "metadata": {},
   "source": [
    "### 3. Re-run with new Parameters\n",
    "Rerun recorded examples with different eval params"
   ]
  },
  {
   "cell_type": "code",
   "execution_count": 4,
   "metadata": {},
   "outputs": [
    {
     "data": {
      "text/html": [
       "<pre style=\"white-space:pre;overflow-x:auto;line-height:normal;font-family:Menlo,'DejaVu Sans Mono',consolas,'Courier New',monospace\">Will rerun <span style=\"color: #008080; text-decoration-color: #008080; font-weight: bold\">2</span> inputs for task:`ask`\n",
       "</pre>\n"
      ],
      "text/plain": [
       "Will rerun \u001b[1;36m2\u001b[0m inputs for task:`ask`\n"
      ]
     },
     "metadata": {},
     "output_type": "display_data"
    },
    {
     "name": "stderr",
     "output_type": "stream",
     "text": [
      "1it [00:01,  1.92s/it]"
     ]
    },
    {
     "name": "stdout",
     "output_type": "stream",
     "text": [
      "Answer: \"The fox is brown.\"\n"
     ]
    },
    {
     "name": "stderr",
     "output_type": "stream",
     "text": [
      "2it [00:03,  1.64s/it]"
     ]
    },
    {
     "name": "stdout",
     "output_type": "stream",
     "text": [
      "Answer: \"The dog is not brown.\"\n"
     ]
    },
    {
     "name": "stderr",
     "output_type": "stream",
     "text": [
      "\n"
     ]
    }
   ],
   "source": [
    "for input_vars in eyeball_pp.rerun_recorded_examples(\n",
    "    {\"model\": \"gpt-4\", \"temperature\": 0}\n",
    "):\n",
    "    answer = ask(input_vars[\"question\"])\n",
    "    print(f'Answer: \"{answer}\"')"
   ]
  },
  {
   "cell_type": "markdown",
   "metadata": {},
   "source": [
    "### 4. Evaluate System\n",
    "Evaluate the LLM results across different runs. You can use built in criteria available in the `eyeball_pp.Criteria` and/or define your own as shown below."
   ]
  },
  {
   "cell_type": "code",
   "execution_count": 5,
   "metadata": {},
   "outputs": [
    {
     "data": {
      "text/html": [
       "<pre style=\"white-space:pre;overflow-x:auto;line-height:normal;font-family:Menlo,'DejaVu Sans Mono',consolas,'Courier New',monospace\">Evaluating <span style=\"color: #008080; text-decoration-color: #008080; font-weight: bold\">2</span> inputs for task:`ask`\n",
       "</pre>\n"
      ],
      "text/plain": [
       "Evaluating \u001b[1;36m2\u001b[0m inputs for task:`ask`\n"
      ]
     },
     "metadata": {},
     "output_type": "display_data"
    },
    {
     "name": "stderr",
     "output_type": "stream",
     "text": [
      "  0%|          |0/2"
     ]
    },
    {
     "name": "stderr",
     "output_type": "stream",
     "text": [
      "100%|██████████|2/2"
     ]
    },
    {
     "name": "stdout",
     "output_type": "stream",
     "text": [
      "\n"
     ]
    },
    {
     "name": "stderr",
     "output_type": "stream",
     "text": [
      "\n"
     ]
    },
    {
     "data": {
      "text/html": [
       "<pre style=\"white-space:pre;overflow-x:auto;line-height:normal;font-family:Menlo,'DejaVu Sans Mono',consolas,'Courier New',monospace\"><span style=\"font-style: italic\">System health for task: 'ask' (by Date)                            </span>\n",
       "┏━━━━━━━━┳━━━━━━━━━━━━━━━━━━━━━━━━┳━━━━━━━━━━━━━━━━━━━━━━━━━━━━━━━┓\n",
       "┃<span style=\"font-weight: bold\"> Date   </span>┃<span style=\"font-weight: bold\"> Results                </span>┃<span style=\"font-weight: bold\"> Stats                         </span>┃\n",
       "┡━━━━━━━━╇━━━━━━━━━━━━━━━━━━━━━━━━╇━━━━━━━━━━━━━━━━━━━━━━━━━━━━━━━┩\n",
       "│ Aug 16 │  50.0% success (2.0/4) │ 4 datapoints, 2 unique inputs │\n",
       "└────────┴────────────────────────┴───────────────────────────────┘\n",
       "</pre>\n"
      ],
      "text/plain": [
       "\u001b[3mSystem health for task: 'ask' (by Date)                            \u001b[0m\n",
       "┏━━━━━━━━┳━━━━━━━━━━━━━━━━━━━━━━━━┳━━━━━━━━━━━━━━━━━━━━━━━━━━━━━━━┓\n",
       "┃\u001b[1m \u001b[0m\u001b[1mDate  \u001b[0m\u001b[1m \u001b[0m┃\u001b[1m \u001b[0m\u001b[1mResults               \u001b[0m\u001b[1m \u001b[0m┃\u001b[1m \u001b[0m\u001b[1mStats                        \u001b[0m\u001b[1m \u001b[0m┃\n",
       "┡━━━━━━━━╇━━━━━━━━━━━━━━━━━━━━━━━━╇━━━━━━━━━━━━━━━━━━━━━━━━━━━━━━━┩\n",
       "│ Aug 16 │  50.0% success (2.0/4) │ 4 datapoints, 2 unique inputs │\n",
       "└────────┴────────────────────────┴───────────────────────────────┘\n"
      ]
     },
     "metadata": {},
     "output_type": "display_data"
    },
    {
     "name": "stdout",
     "output_type": "stream",
     "text": [
      "\n"
     ]
    },
    {
     "data": {
      "text/html": [
       "<pre style=\"white-space:pre;overflow-x:auto;line-height:normal;font-family:Menlo,'DejaVu Sans Mono',consolas,'Courier New',monospace\"><span style=\"font-style: italic\">System health for task: 'ask' (by Run History)                                                        </span>\n",
       "┏━━━━━━━━━━━━━━━━━━━━━━━━━━━━┳━━━━━━━━━━━━━━━━━━━━━━━┳━━━━━━━━━━━━━━━━━━━━━━━━━━━━━━━┳━━━━━━━━━━━━━━━┓\n",
       "┃<span style=\"font-weight: bold\"> Run                        </span>┃<span style=\"font-weight: bold\"> Results               </span>┃<span style=\"font-weight: bold\"> Stats                         </span>┃<span style=\"font-weight: bold\"> Params        </span>┃\n",
       "┡━━━━━━━━━━━━━━━━━━━━━━━━━━━━╇━━━━━━━━━━━━━━━━━━━━━━━╇━━━━━━━━━━━━━━━━━━━━━━━━━━━━━━━╇━━━━━━━━━━━━━━━┩\n",
       "│ Rerun on Aug 16, 23:40 PM  │  100.0% success (2/2) │ 2 datapoints, 2 unique inputs │ model=gpt-4   │\n",
       "│                            │                       │                               │ temperature=0 │\n",
       "├────────────────────────────┼───────────────────────┼───────────────────────────────┼───────────────┤\n",
       "│ Aug 16 23:40 PM - 23:40 PM │  0.0% success (0/2)   │ 2 datapoints, 2 unique inputs │               │\n",
       "└────────────────────────────┴───────────────────────┴───────────────────────────────┴───────────────┘\n",
       "</pre>\n"
      ],
      "text/plain": [
       "\u001b[3mSystem health for task: 'ask' (by Run History)                                                        \u001b[0m\n",
       "┏━━━━━━━━━━━━━━━━━━━━━━━━━━━━┳━━━━━━━━━━━━━━━━━━━━━━━┳━━━━━━━━━━━━━━━━━━━━━━━━━━━━━━━┳━━━━━━━━━━━━━━━┓\n",
       "┃\u001b[1m \u001b[0m\u001b[1mRun                       \u001b[0m\u001b[1m \u001b[0m┃\u001b[1m \u001b[0m\u001b[1mResults              \u001b[0m\u001b[1m \u001b[0m┃\u001b[1m \u001b[0m\u001b[1mStats                        \u001b[0m\u001b[1m \u001b[0m┃\u001b[1m \u001b[0m\u001b[1mParams       \u001b[0m\u001b[1m \u001b[0m┃\n",
       "┡━━━━━━━━━━━━━━━━━━━━━━━━━━━━╇━━━━━━━━━━━━━━━━━━━━━━━╇━━━━━━━━━━━━━━━━━━━━━━━━━━━━━━━╇━━━━━━━━━━━━━━━┩\n",
       "│ Rerun on Aug 16, 23:40 PM  │  100.0% success (2/2) │ 2 datapoints, 2 unique inputs │ model=gpt-4   │\n",
       "│                            │                       │                               │ temperature=0 │\n",
       "├────────────────────────────┼───────────────────────┼───────────────────────────────┼───────────────┤\n",
       "│ Aug 16 23:40 PM - 23:40 PM │  0.0% success (0/2)   │ 2 datapoints, 2 unique inputs │               │\n",
       "└────────────────────────────┴───────────────────────┴───────────────────────────────┴───────────────┘\n"
      ]
     },
     "metadata": {},
     "output_type": "display_data"
    },
    {
     "data": {
      "text/html": [
       "<pre style=\"white-space:pre;overflow-x:auto;line-height:normal;font-family:Menlo,'DejaVu Sans Mono',consolas,'Courier New',monospace\">\n",
       "A per input breakdown can be found here: <a href=\"file:///Users/thepanda/Repos/eyeball_pp/examples/eyeball_data/ask/per_input_breakdown.md\" target=\"_blank\">per_input_breakdown.md</a>\n",
       "</pre>\n"
      ],
      "text/plain": [
       "\n",
       "A per input breakdown can be found here: \u001b]8;id=119422;file:///Users/thepanda/Repos/eyeball_pp/examples/eyeball_data/ask/per_input_breakdown.md\u001b\\per_input_breakdown.md\u001b]8;;\u001b\\\n"
      ]
     },
     "metadata": {},
     "output_type": "display_data"
    }
   ],
   "source": [
    "from eyeball_pp import Criteria\n",
    "\n",
    "eyeball_pp.evaluate_system(\n",
    "    grading_criteria=[Criteria.CORRECTNESS],\n",
    "    grading_criteria_custom={\"relevance\": \"Is the response correctly using the information in the context?\"}\n",
    ")"
   ]
  },
  {
   "cell_type": "code",
   "execution_count": null,
   "metadata": {},
   "outputs": [],
   "source": []
  }
 ],
 "metadata": {
  "kernelspec": {
   "display_name": "venv",
   "language": "python",
   "name": "python3"
  },
  "language_info": {
   "codemirror_mode": {
    "name": "ipython",
    "version": 3
   },
   "file_extension": ".py",
   "mimetype": "text/x-python",
   "name": "python",
   "nbconvert_exporter": "python",
   "pygments_lexer": "ipython3",
   "version": "3.9.13"
  },
  "orig_nbformat": 4
 },
 "nbformat": 4,
 "nbformat_minor": 2
}
