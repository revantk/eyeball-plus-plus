{
 "cells": [
  {
   "attachments": {},
   "cell_type": "markdown",
   "metadata": {},
   "source": [
    "# Example: Question Answering Task\n",
    "An example describing how to integrate eyeball-plus-plus for a simple task which answers questions based on a given context"
   ]
  },
  {
   "cell_type": "code",
   "execution_count": null,
   "metadata": {},
   "outputs": [],
   "source": [
    "%pip install eyeball_pp openai pyyaml rich"
   ]
  },
  {
   "attachments": {},
   "cell_type": "markdown",
   "metadata": {},
   "source": [
    "### 1. Define your LLM task\n",
    "Define the method and add eyeball decorator to record"
   ]
  },
  {
   "cell_type": "code",
   "execution_count": 2,
   "metadata": {},
   "outputs": [],
   "source": [
    "import eyeball_pp\n",
    "import openai\n",
    "\n",
    "openai.api_key = \"your-openai-api-key\"\n",
    "\n",
    "# Setting a sample_rate of 1 means that every call to the ask function will be recorded.\n",
    "# You might want to change this on production to a lower value like 0.1 if you only want to record 10% of the calls.\n",
    "eyeball_pp.set_config(sample_rate=1)\n",
    "\n",
    "@eyeball_pp.record_task(args_to_record=[\"context\", \"question\"])\n",
    "def ask(context: str, question: str) -> str:\n",
    "    # You can write arbitrary code here, the only thing the eval framework\n",
    "    # cares about is the input and output of this function.\n",
    "    # In this case the inputs context and question are recorded and the output which is the return value of this function is recorded.\n",
    "\n",
    "    system = \"\"\"\n",
    "    You are trying to answer a question strictly using the information provided in the context. Reply I don't know if you don't know the answer.\n",
    "    \"\"\"\n",
    "\n",
    "    prompt = f\"\"\"\n",
    "    Context: {context}\n",
    "    Question: {question}\n",
    "    \"\"\"\n",
    "\n",
    "    # eval params can be set when you are trying to evaluate this agent\n",
    "    # with different parameters eg. different models, providers or hyperparameters like temperature\n",
    "    model = eyeball_pp.get_eval_param(\"model\") or \"gpt-3.5-turbo\"\n",
    "    temperature = eyeball_pp.get_eval_param(\"temperature\") or 0.5\n",
    "\n",
    "    # Note you can use any arbitrary LLM here, this example uses the openai API but you can \n",
    "    # use anthropic claude, or any other open source LLM\n",
    "    output = openai.ChatCompletion.create(  # type: ignore\n",
    "        model=model,\n",
    "        temperature=temperature,\n",
    "        messages=[\n",
    "            {\"role\": \"system\", \"content\": system},\n",
    "            {\"role\": \"user\", \"content\": prompt},\n",
    "        ],\n",
    "    )[\"choices\"][0][\"message\"][\n",
    "        \"content\"\n",
    "    ]  # type: ignore\n",
    "    return output"
   ]
  },
  {
   "attachments": {},
   "cell_type": "markdown",
   "metadata": {},
   "source": [
    "### 2. Initial Run\n",
    "Run the task with a few different inputs"
   ]
  },
  {
   "cell_type": "code",
   "execution_count": 6,
   "metadata": {},
   "outputs": [
    {
     "name": "stdout",
     "output_type": "stream",
     "text": [
      "I don't know.\n",
      "I don't know.\n"
     ]
    }
   ],
   "source": [
    "answer1 = ask(context=\"The quick brown fox jumps over the lazy dog\",\n",
    "    question=\"What color is the fox?\",\n",
    ")\n",
    "print(answer1)\n",
    "\n",
    "answer2 = ask(context=\"The lazy dog which is not brown jumps over the quick brown fox\",\n",
    "    question=\"What color is the dog?\",\n",
    ")\n",
    "print(answer2)"
   ]
  },
  {
   "attachments": {},
   "cell_type": "markdown",
   "metadata": {},
   "source": [
    "### 3. Re-run with new Parameters\n",
    "Rerun recorded examples with different eval params"
   ]
  },
  {
   "cell_type": "code",
   "execution_count": 4,
   "metadata": {},
   "outputs": [
    {
     "name": "stdout",
     "output_type": "stream",
     "text": [
      "Will rerun 2 inputs for task:`ask`\n",
      "\n",
      "Rerunning input #0:\n",
      "context=\"The quick brown fox jumps over the lazy dog\"\n",
      "question=\"What color is the fox?\"\n",
      "\n",
      "Using eval params: {'model': 'gpt-3.5-turbo-16k', 'temperature': 0}\n",
      "answer=\"I don't know.\"\n",
      "\n",
      "Rerunning input #1:\n",
      "context=\"The lazy dog which is not brown jumps over the quick brown fox\"\n",
      "question=\"What color is the dog?\"\n",
      "\n",
      "Using eval params: {'model': 'gpt-3.5-turbo-16k', 'temperature': 0}\n",
      "answer=\"I don't know.\"\n"
     ]
    }
   ],
   "source": [
    "for input_vars in eyeball_pp.rerun_recorded_examples(\n",
    "    {\"model\": \"gpt-3.5-turbo-16k\", \"temperature\": 0}\n",
    "):\n",
    "    answer = ask(input_vars[\"context\"], input_vars[\"question\"])\n",
    "    print(f'answer=\"{answer}\"')\n"
   ]
  },
  {
   "attachments": {},
   "cell_type": "markdown",
   "metadata": {},
   "source": [
    "### 4. Compare Results\n",
    "Compare the recorded checkpoints across different runs using an objective"
   ]
  },
  {
   "cell_type": "code",
   "execution_count": 5,
   "metadata": {},
   "outputs": [
    {
     "name": "stdout",
     "output_type": "stream",
     "text": [
      "Comparing 2 inputs for task:`ask`\n",
      "\n",
      "Input #0 - Running 1 comparison(s)\n",
      "\u001b[32m[improvement] task output improved from checkpoint 2023-08-01T19:24:26.587752  to 2023-08-01T19:24:32.630857 (temperature=0, model=gpt-3.5-turbo-16k)\u001b[0m\n",
      "\n",
      "Input #1 - Running 1 comparison(s)\n",
      "\u001b[32m[improvement] task output improved from checkpoint 2023-08-01T19:24:27.625472  to 2023-08-01T19:24:33.310973 (temperature=0, model=gpt-3.5-turbo-16k)\u001b[0m\n",
      "\n",
      "Summary:\n",
      "---------\n",
      "Your most sucessful re-runs:\n",
      "2023-08-01T19:24:32.630821: 2/2 successes\n",
      "\n",
      "Your most sucessful params:\n",
      "model=gpt-3.5-turbo-16k,temperature=0: 2/2 successes\n"
     ]
    },
    {
     "data": {
      "text/html": [
       "<pre style=\"white-space:pre;overflow-x:auto;line-height:normal;font-family:Menlo,'DejaVu Sans Mono',consolas,'Courier New',monospace\"><span style=\"font-style: italic\">                                                Comparison Results                                                 </span>\n",
       "┏━━━━━━━━━━━━━━━━━━━━━━┳━━━━━━━━━━━━━━━━━━━━━━┳━━━━━━━━━━━━━━━━━━━━━━┳━━━━━━━━━━━━━━━━━━━━━┳━━━━━━━━━━━━━━━━━━━━━━┓\n",
       "┃<span style=\"font-weight: bold\"> context              </span>┃<span style=\"font-weight: bold\"> question             </span>┃<span style=\"font-weight: bold\"> latest_checkpoint    </span>┃<span style=\"font-weight: bold\"> previous_checkpoint </span>┃<span style=\"font-weight: bold\"> the_checkpoint_befo… </span>┃\n",
       "┡━━━━━━━━━━━━━━━━━━━━━━╇━━━━━━━━━━━━━━━━━━━━━━╇━━━━━━━━━━━━━━━━━━━━━━╇━━━━━━━━━━━━━━━━━━━━━╇━━━━━━━━━━━━━━━━━━━━━━┩\n",
       "│ \"The quick brown fox │ \"What color is the   │ 📈 +ve               │                     │                      │\n",
       "│ jumps over the lazy  │ fox?\"                │ (model=gpt-3.5-turb… │                     │                      │\n",
       "│ dog\"                 │                      │ temperature=0)       │                     │                      │\n",
       "│ \"The lazy dog which  │ \"What color is the   │ 📈 +ve               │                     │                      │\n",
       "│ is not brown jumps   │ dog?\"                │ (model=gpt-3.5-turb… │                     │                      │\n",
       "│ over the quick brown │                      │ temperature=0)       │                     │                      │\n",
       "│ fox\"                 │                      │                      │                     │                      │\n",
       "└──────────────────────┴──────────────────────┴──────────────────────┴─────────────────────┴──────────────────────┘\n",
       "</pre>\n"
      ],
      "text/plain": [
       "\u001b[3m                                                Comparison Results                                                 \u001b[0m\n",
       "┏━━━━━━━━━━━━━━━━━━━━━━┳━━━━━━━━━━━━━━━━━━━━━━┳━━━━━━━━━━━━━━━━━━━━━━┳━━━━━━━━━━━━━━━━━━━━━┳━━━━━━━━━━━━━━━━━━━━━━┓\n",
       "┃\u001b[1m \u001b[0m\u001b[1mcontext             \u001b[0m\u001b[1m \u001b[0m┃\u001b[1m \u001b[0m\u001b[1mquestion            \u001b[0m\u001b[1m \u001b[0m┃\u001b[1m \u001b[0m\u001b[1mlatest_checkpoint   \u001b[0m\u001b[1m \u001b[0m┃\u001b[1m \u001b[0m\u001b[1mprevious_checkpoint\u001b[0m\u001b[1m \u001b[0m┃\u001b[1m \u001b[0m\u001b[1mthe_checkpoint_befo…\u001b[0m\u001b[1m \u001b[0m┃\n",
       "┡━━━━━━━━━━━━━━━━━━━━━━╇━━━━━━━━━━━━━━━━━━━━━━╇━━━━━━━━━━━━━━━━━━━━━━╇━━━━━━━━━━━━━━━━━━━━━╇━━━━━━━━━━━━━━━━━━━━━━┩\n",
       "│ \"The quick brown fox │ \"What color is the   │ 📈 +ve               │                     │                      │\n",
       "│ jumps over the lazy  │ fox?\"                │ (model=gpt-3.5-turb… │                     │                      │\n",
       "│ dog\"                 │                      │ temperature=0)       │                     │                      │\n",
       "│ \"The lazy dog which  │ \"What color is the   │ 📈 +ve               │                     │                      │\n",
       "│ is not brown jumps   │ dog?\"                │ (model=gpt-3.5-turb… │                     │                      │\n",
       "│ over the quick brown │                      │ temperature=0)       │                     │                      │\n",
       "│ fox\"                 │                      │                      │                     │                      │\n",
       "└──────────────────────┴──────────────────────┴──────────────────────┴─────────────────────┴──────────────────────┘\n"
      ]
     },
     "metadata": {},
     "output_type": "display_data"
    }
   ],
   "source": [
    "eyeball_pp.compare_recorded_checkpoints(\n",
    "    task_objective=\"This agent tries to answer questions given a context. Verify that the agent answers the question correctly and that the answer is only based on the context.\"\n",
    ")"
   ]
  }
 ],
 "metadata": {
  "kernelspec": {
   "display_name": "venv",
   "language": "python",
   "name": "python3"
  },
  "language_info": {
   "codemirror_mode": {
    "name": "ipython",
    "version": 3
   },
   "file_extension": ".py",
   "mimetype": "text/x-python",
   "name": "python",
   "nbconvert_exporter": "python",
   "pygments_lexer": "ipython3",
   "version": "3.10.7"
  },
  "orig_nbformat": 4
 },
 "nbformat": 4,
 "nbformat_minor": 2
}
