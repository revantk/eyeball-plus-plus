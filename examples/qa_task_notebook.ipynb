{
 "cells": [
  {
   "cell_type": "markdown",
   "metadata": {},
   "source": [
    "An example describing how to integrate eyeball-plus-plus for a simple task which answers questions based on a given context"
   ]
  },
  {
   "cell_type": "code",
   "execution_count": null,
   "metadata": {},
   "outputs": [],
   "source": [
    "%pip install eyeball_pp openai"
   ]
  },
  {
   "cell_type": "markdown",
   "metadata": {},
   "source": [
    "Define your llm task"
   ]
  },
  {
   "cell_type": "code",
   "execution_count": 6,
   "metadata": {},
   "outputs": [],
   "source": [
    "import eyeball_pp\n",
    "import openai\n",
    "\n",
    "openai.api_key = \"YOUR_API_KEY_HERE\"\n",
    "\n",
    "# Setting a sample_rate of 1 means that every call to the ask function will be recorded.\n",
    "# You might want to change this on production to a lower value like 0.1 if you only want to record 10% of the calls.\n",
    "eyeball_pp.set_config(sample_rate=1)\n",
    "\n",
    "@eyeball_pp.record_task(args_to_record=[\"context\", \"question\"])\n",
    "def ask(context: str, question: str) -> str:\n",
    "    # You can write arbitrary code here, the only thing the eval framework\n",
    "    # cares about is the input and output of this function.\n",
    "    # In this case the inputs context and question are recorded and the output which is the return value of this function is recorded.\n",
    "\n",
    "    system = \"\"\"\n",
    "    You are trying to answer a question strictly using the information provided in the context. Reply I don't know if you don't know the answer.\n",
    "    \"\"\"\n",
    "\n",
    "    prompt = f\"\"\"\n",
    "    Context: {context}\n",
    "    Question: {question}\n",
    "    \"\"\"\n",
    "\n",
    "    # eval params can be set when you are trying to evaluate this agent\n",
    "    # with different parameters eg. different models, providers or hyperparameters like temperature\n",
    "    model = eyeball_pp.get_eval_param(\"model\") or \"gpt-3.5-turbo\"\n",
    "    temperature = eyeball_pp.get_eval_param(\"temperature\") or 0.5\n",
    "\n",
    "    # Note you can use any arbitrary LLM here, this example uses the openai API but you can \n",
    "    # use anthropic claude, or any other open source LLM\n",
    "    output = openai.ChatCompletion.create(  # type: ignore\n",
    "        model=model,\n",
    "        temperature=temperature,\n",
    "        messages=[\n",
    "            {\"role\": \"system\", \"content\": system},\n",
    "            {\"role\": \"user\", \"content\": prompt},\n",
    "        ],\n",
    "    )[\"choices\"][0][\"message\"][\n",
    "        \"content\"\n",
    "    ]  # type: ignore\n",
    "    return output"
   ]
  },
  {
   "cell_type": "code",
   "execution_count": 7,
   "metadata": {},
   "outputs": [
    {
     "name": "stdout",
     "output_type": "stream",
     "text": [
      "I don't know.\n",
      "I don't know.\n"
     ]
    }
   ],
   "source": [
    "# Run the task with a few different inputs\n",
    "answer1 = ask(context=\"The quick brown fox jumps over the lazy dog\",\n",
    "    question=\"What color is the fox?\",\n",
    ")\n",
    "print(answer1)\n",
    "\n",
    "answer2 = ask(context=\"The lazy dog which is not brown jumps over the quick brown fox\",\n",
    "    question=\"What color is the dog?\",\n",
    ")\n",
    "print(answer2)"
   ]
  },
  {
   "cell_type": "code",
   "execution_count": 8,
   "metadata": {},
   "outputs": [
    {
     "name": "stdout",
     "output_type": "stream",
     "text": [
      "Will rerun 2 inputs for task:`ask`\n",
      "\n",
      "Rerunning input #0:\n",
      "context=\"The quick brown fox jumps over the lazy dog\"\n",
      "question=\"What color is the fox?\"\n",
      "\n",
      "Using eval params: {'model': 'gpt-4', 'temperature': 0.7}\n",
      "\n",
      "Rerunning input #1:\n",
      "context=\"The lazy dog which is not brown jumps over the quick brown fox\"\n",
      "question=\"What color is the dog?\"\n",
      "\n",
      "Using eval params: {'model': 'gpt-4', 'temperature': 0.7}\n"
     ]
    }
   ],
   "source": [
    "# Rerun recorded examples with different eval params\n",
    "for input_vars in eyeball_pp.rerun_recorded_examples(\n",
    "    {\"model\": \"gpt-4\", \"temperature\": 0.7}\n",
    "):\n",
    "    ask(input_vars[\"context\"], input_vars[\"question\"])\n"
   ]
  },
  {
   "cell_type": "code",
   "execution_count": 9,
   "metadata": {},
   "outputs": [
    {
     "name": "stdout",
     "output_type": "stream",
     "text": [
      "Comparing 2 inputs for task:`ask`\n",
      "\n",
      "Input #0 - Running 2 comparison(s)\n",
      "\u001b[32m[improvement] task output improved from checkpoint 2023-07-28T06:42:12.770845  to 2023-07-28T06:42:14.798089 (model=gpt-4, temperature=0.7)\u001b[0m\n",
      "\u001b[32m[improvement] task output improved from checkpoint 2023-07-28T06:25:17.238118 (model=gpt-4, temperature=0.7) to 2023-07-28T06:42:12.770845 \u001b[0m\n",
      "\n",
      "Input #1 - Running 2 comparison(s)\n",
      "\u001b[33m[neutral] task output is the same between checkpoints 2023-07-28T06:42:10.440686  & 2023-07-28T06:42:13.841368 (model=gpt-4, temperature=0.7) \u001b[0m\n",
      "\u001b[32m[improvement] task output improved from checkpoint 2023-07-28T06:25:16.603537 (model=gpt-4, temperature=0.7) to 2023-07-28T06:42:10.440686 \u001b[0m\n",
      "\n",
      "Summary:\n",
      "---------\n",
      "Your most sucessful re-runs:\n",
      "2023-07-28T06:42:13.841295: 2/2 successes\n",
      "\n",
      "Your most sucessful params:\n",
      "default: 3/4 successes\n",
      "model=gpt-4,temperature=0.7: 2/4 successes\n"
     ]
    },
    {
     "data": {
      "text/html": [
       "<pre style=\"white-space:pre;overflow-x:auto;line-height:normal;font-family:Menlo,'DejaVu Sans Mono',consolas,'Courier New',monospace\"><span style=\"font-style: italic\">                                                Comparison Results                                                 </span>\n",
       "┏━━━━━━━━━━━━━━━━━━━━━━┳━━━━━━━━━━━━━━━━━━━━━━┳━━━━━━━━━━━━━━━━━━━━━━┳━━━━━━━━━━━━━━━━━━━━━┳━━━━━━━━━━━━━━━━━━━━━━┓\n",
       "┃<span style=\"font-weight: bold\"> context              </span>┃<span style=\"font-weight: bold\"> question             </span>┃<span style=\"font-weight: bold\"> latest_checkpoint    </span>┃<span style=\"font-weight: bold\"> previous_checkpoint </span>┃<span style=\"font-weight: bold\"> the_checkpoint_befo… </span>┃\n",
       "┡━━━━━━━━━━━━━━━━━━━━━━╇━━━━━━━━━━━━━━━━━━━━━━╇━━━━━━━━━━━━━━━━━━━━━━╇━━━━━━━━━━━━━━━━━━━━━╇━━━━━━━━━━━━━━━━━━━━━━┩\n",
       "│ \"The quick brown fox │ \"What color is the   │ 📊 neutral           │ 📈 +ve              │ 📊 neutral           │\n",
       "│ jumps over the lazy  │ fox?\"                │ (model=gpt-4,        │                     │ (model=gpt-4,        │\n",
       "│ dog\"                 │                      │ temperature=0.7)     │                     │ temperature=0.7)     │\n",
       "│ \"The lazy dog which  │ \"What color is the   │ 📈 +ve (model=gpt-4… │ 📈 +ve              │ 📈 +ve (model=gpt-4… │\n",
       "│ is not brown jumps   │ dog?\"                │ temperature=0.7)     │                     │ temperature=0.7)     │\n",
       "│ over the quick brown │                      │                      │                     │                      │\n",
       "│ fox\"                 │                      │                      │                     │                      │\n",
       "└──────────────────────┴──────────────────────┴──────────────────────┴─────────────────────┴──────────────────────┘\n",
       "</pre>\n"
      ],
      "text/plain": [
       "\u001b[3m                                                Comparison Results                                                 \u001b[0m\n",
       "┏━━━━━━━━━━━━━━━━━━━━━━┳━━━━━━━━━━━━━━━━━━━━━━┳━━━━━━━━━━━━━━━━━━━━━━┳━━━━━━━━━━━━━━━━━━━━━┳━━━━━━━━━━━━━━━━━━━━━━┓\n",
       "┃\u001b[1m \u001b[0m\u001b[1mcontext             \u001b[0m\u001b[1m \u001b[0m┃\u001b[1m \u001b[0m\u001b[1mquestion            \u001b[0m\u001b[1m \u001b[0m┃\u001b[1m \u001b[0m\u001b[1mlatest_checkpoint   \u001b[0m\u001b[1m \u001b[0m┃\u001b[1m \u001b[0m\u001b[1mprevious_checkpoint\u001b[0m\u001b[1m \u001b[0m┃\u001b[1m \u001b[0m\u001b[1mthe_checkpoint_befo…\u001b[0m\u001b[1m \u001b[0m┃\n",
       "┡━━━━━━━━━━━━━━━━━━━━━━╇━━━━━━━━━━━━━━━━━━━━━━╇━━━━━━━━━━━━━━━━━━━━━━╇━━━━━━━━━━━━━━━━━━━━━╇━━━━━━━━━━━━━━━━━━━━━━┩\n",
       "│ \"The quick brown fox │ \"What color is the   │ 📊 neutral           │ 📈 +ve              │ 📊 neutral           │\n",
       "│ jumps over the lazy  │ fox?\"                │ (model=gpt-4,        │                     │ (model=gpt-4,        │\n",
       "│ dog\"                 │                      │ temperature=0.7)     │                     │ temperature=0.7)     │\n",
       "│ \"The lazy dog which  │ \"What color is the   │ 📈 +ve (model=gpt-4… │ 📈 +ve              │ 📈 +ve (model=gpt-4… │\n",
       "│ is not brown jumps   │ dog?\"                │ temperature=0.7)     │                     │ temperature=0.7)     │\n",
       "│ over the quick brown │                      │                      │                     │                      │\n",
       "│ fox\"                 │                      │                      │                     │                      │\n",
       "└──────────────────────┴──────────────────────┴──────────────────────┴─────────────────────┴──────────────────────┘\n"
      ]
     },
     "metadata": {},
     "output_type": "display_data"
    }
   ],
   "source": [
    "# Compare the recorded checkpoints using an objective\n",
    "eyeball_pp.compare_recorded_checkpoints(\n",
    "    task_objective=\"This agent tries to answer questions given a context. Verify that the agent answers the question correctly and that the answer is only based on the context.\"\n",
    ")"
   ]
  }
 ],
 "metadata": {
  "kernelspec": {
   "display_name": "venv",
   "language": "python",
   "name": "python3"
  },
  "language_info": {
   "codemirror_mode": {
    "name": "ipython",
    "version": 3
   },
   "file_extension": ".py",
   "mimetype": "text/x-python",
   "name": "python",
   "nbconvert_exporter": "python",
   "pygments_lexer": "ipython3",
   "version": "3.10.7"
  },
  "orig_nbformat": 4
 },
 "nbformat": 4,
 "nbformat_minor": 2
}
