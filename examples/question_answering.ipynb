{
 "cells": [
  {
   "attachments": {},
   "cell_type": "markdown",
   "metadata": {},
   "source": [
    "# Example: Question Answering\n",
    "A sample eyeball-plus-plus integration for a simple question-answering task"
   ]
  },
  {
   "cell_type": "code",
   "execution_count": null,
   "metadata": {},
   "outputs": [],
   "source": [
    "%pip install eyeball_pp openai pyyaml rich"
   ]
  },
  {
   "attachments": {},
   "cell_type": "markdown",
   "metadata": {},
   "source": [
    "### 1. Define your LLM task\n",
    "Define the method and add eyeball decorator to record"
   ]
  },
  {
   "cell_type": "code",
   "execution_count": 1,
   "metadata": {},
   "outputs": [],
   "source": [
    "import eyeball_pp\n",
    "import openai\n",
    "\n",
    "openai.api_key = \"your-openai-api-key\"\n",
    "\n",
    "# Setting a sample_rate of 1 means that every call to the ask function will be recorded.\n",
    "# You might want to change this on production to a lower value like 0.1 if you only want to record 10% of the calls.\n",
    "eyeball_pp.set_config(sample_rate=1)\n",
    "\n",
    "@eyeball_pp.record_task(input_names=[\"context\", \"question\"])\n",
    "def ask(context: str, question: str) -> str:\n",
    "    # You can write arbitrary code here, the only thing the eval framework\n",
    "    # cares about is the input and output of this function.\n",
    "    # In this case the inputs context and question are recorded and the output which is the return value of this function is recorded.\n",
    "\n",
    "    system = \"\"\"\n",
    "    You are trying to answer a question strictly using the information provided in the context. Reply I don't know if you don't know the answer.\n",
    "    \"\"\"\n",
    "\n",
    "    prompt = f\"\"\"\n",
    "    Context: {context}\n",
    "    Question: {question}\n",
    "    \"\"\"\n",
    "\n",
    "    # eval params can be set when you are trying to evaluate this agent\n",
    "    # with different parameters eg. different models, providers or hyperparameters like temperature\n",
    "    model = eyeball_pp.get_eval_param(\"model\") or \"gpt-3.5-turbo\"\n",
    "    temperature = eyeball_pp.get_eval_param(\"temperature\") or 0.5\n",
    "\n",
    "    # Note you can use any arbitrary LLM here, this example uses the openai API but you can \n",
    "    # use anthropic claude, or any other open source LLM\n",
    "    output = openai.ChatCompletion.create(  # type: ignore\n",
    "        model=model,\n",
    "        temperature=temperature,\n",
    "        messages=[\n",
    "            {\"role\": \"system\", \"content\": system},\n",
    "            {\"role\": \"user\", \"content\": prompt},\n",
    "        ],\n",
    "    )[\"choices\"][0][\"message\"][\n",
    "        \"content\"\n",
    "    ]  # type: ignore\n",
    "    return output"
   ]
  },
  {
   "attachments": {},
   "cell_type": "markdown",
   "metadata": {},
   "source": [
    "### 2. Initial Run\n",
    "Run the task with a few different inputs."
   ]
  },
  {
   "cell_type": "code",
   "execution_count": 2,
   "metadata": {},
   "outputs": [
    {
     "name": "stdout",
     "output_type": "stream",
     "text": [
      "I don't know.\n",
      "I don't know.\n"
     ]
    }
   ],
   "source": [
    "answer1 = ask(context=\"The quick brown fox jumps over the lazy dog\",\n",
    "    question=\"What color is the fox?\",\n",
    ")\n",
    "print(answer1)\n",
    "\n",
    "answer2 = ask(context=\"The lazy dog which is not brown jumps over the quick brown fox\",\n",
    "    question=\"What color is the dog?\",\n",
    ")\n",
    "print(answer2)"
   ]
  },
  {
   "attachments": {},
   "cell_type": "markdown",
   "metadata": {},
   "source": [
    "### 3. Re-run with new Parameters\n",
    "Rerun recorded examples with different eval params"
   ]
  },
  {
   "cell_type": "code",
   "execution_count": 3,
   "metadata": {},
   "outputs": [
    {
     "data": {
      "text/html": [
       "<pre style=\"white-space:pre;overflow-x:auto;line-height:normal;font-family:Menlo,'DejaVu Sans Mono',consolas,'Courier New',monospace\">Will rerun <span style=\"color: #008080; text-decoration-color: #008080; font-weight: bold\">2</span> inputs for task:`ask`\n",
       "</pre>\n"
      ],
      "text/plain": [
       "Will rerun \u001b[1;36m2\u001b[0m inputs for task:`ask`\n"
      ]
     },
     "metadata": {},
     "output_type": "display_data"
    },
    {
     "name": "stderr",
     "output_type": "stream",
     "text": [
      "1it [00:00,  1.21it/s]"
     ]
    },
    {
     "name": "stdout",
     "output_type": "stream",
     "text": [
      "answer=\"The fox is brown.\"\n"
     ]
    },
    {
     "name": "stderr",
     "output_type": "stream",
     "text": [
      "2it [00:02,  1.48s/it]"
     ]
    },
    {
     "name": "stdout",
     "output_type": "stream",
     "text": [
      "answer=\"The context does not provide information on the color of the dog.\"\n"
     ]
    },
    {
     "name": "stderr",
     "output_type": "stream",
     "text": [
      "\n"
     ]
    }
   ],
   "source": [
    "for input_vars in eyeball_pp.rerun_recorded_examples(\n",
    "    {\"model\": \"gpt-4\", \"temperature\": 0}\n",
    "):\n",
    "    answer = ask(input_vars[\"context\"], input_vars[\"question\"])\n",
    "    print(f'Answer: \"{answer}\"')"
   ]
  },
  {
   "attachments": {},
   "cell_type": "markdown",
   "metadata": {},
   "source": [
    "### 4. Evaluate System\n",
    "Evaluate the LLM results across different runs. You can use built in criteria available in the `eyeball_pp.Criteria` and/or define your own as shown below."
   ]
  },
  {
   "cell_type": "code",
   "execution_count": 6,
   "metadata": {},
   "outputs": [
    {
     "data": {
      "text/html": [
       "<pre style=\"white-space:pre;overflow-x:auto;line-height:normal;font-family:Menlo,'DejaVu Sans Mono',consolas,'Courier New',monospace\">Evaluating <span style=\"color: #008080; text-decoration-color: #008080; font-weight: bold\">2</span> inputs for task:`ask`\n",
       "</pre>\n"
      ],
      "text/plain": [
       "Evaluating \u001b[1;36m2\u001b[0m inputs for task:`ask`\n"
      ]
     },
     "metadata": {},
     "output_type": "display_data"
    },
    {
     "name": "stderr",
     "output_type": "stream",
     "text": [
      "100%|██████████|2/2"
     ]
    },
    {
     "name": "stdout",
     "output_type": "stream",
     "text": [
      "\n"
     ]
    },
    {
     "name": "stderr",
     "output_type": "stream",
     "text": [
      "\n"
     ]
    },
    {
     "data": {
      "text/html": [
       "<pre style=\"white-space:pre;overflow-x:auto;line-height:normal;font-family:Menlo,'DejaVu Sans Mono',consolas,'Courier New',monospace\"><span style=\"font-style: italic\">System health for task: 'ask' (by Date)                            </span>\n",
       "┏━━━━━━━━┳━━━━━━━━━━━━━━━━━━━━━━━━┳━━━━━━━━━━━━━━━━━━━━━━━━━━━━━━━┓\n",
       "┃<span style=\"font-weight: bold\"> Date   </span>┃<span style=\"font-weight: bold\"> Results                </span>┃<span style=\"font-weight: bold\"> Stats                         </span>┃\n",
       "┡━━━━━━━━╇━━━━━━━━━━━━━━━━━━━━━━━━╇━━━━━━━━━━━━━━━━━━━━━━━━━━━━━━━┩\n",
       "│ Aug 16 │  50.0% success (2.0/4) │ 4 datapoints, 2 unique inputs │\n",
       "└────────┴────────────────────────┴───────────────────────────────┘\n",
       "</pre>\n"
      ],
      "text/plain": [
       "\u001b[3mSystem health for task: 'ask' (by Date)                            \u001b[0m\n",
       "┏━━━━━━━━┳━━━━━━━━━━━━━━━━━━━━━━━━┳━━━━━━━━━━━━━━━━━━━━━━━━━━━━━━━┓\n",
       "┃\u001b[1m \u001b[0m\u001b[1mDate  \u001b[0m\u001b[1m \u001b[0m┃\u001b[1m \u001b[0m\u001b[1mResults               \u001b[0m\u001b[1m \u001b[0m┃\u001b[1m \u001b[0m\u001b[1mStats                        \u001b[0m\u001b[1m \u001b[0m┃\n",
       "┡━━━━━━━━╇━━━━━━━━━━━━━━━━━━━━━━━━╇━━━━━━━━━━━━━━━━━━━━━━━━━━━━━━━┩\n",
       "│ Aug 16 │  50.0% success (2.0/4) │ 4 datapoints, 2 unique inputs │\n",
       "└────────┴────────────────────────┴───────────────────────────────┘\n"
      ]
     },
     "metadata": {},
     "output_type": "display_data"
    },
    {
     "name": "stdout",
     "output_type": "stream",
     "text": [
      "\n"
     ]
    },
    {
     "data": {
      "text/html": [
       "<pre style=\"white-space:pre;overflow-x:auto;line-height:normal;font-family:Menlo,'DejaVu Sans Mono',consolas,'Courier New',monospace\"><span style=\"font-style: italic\">System health for task: 'ask' (by Run History)                                                        </span>\n",
       "┏━━━━━━━━━━━━━━━━━━━━━━━━━━━━┳━━━━━━━━━━━━━━━━━━━━━━━┳━━━━━━━━━━━━━━━━━━━━━━━━━━━━━━━┳━━━━━━━━━━━━━━━┓\n",
       "┃<span style=\"font-weight: bold\"> Run                        </span>┃<span style=\"font-weight: bold\"> Results               </span>┃<span style=\"font-weight: bold\"> Stats                         </span>┃<span style=\"font-weight: bold\"> Params        </span>┃\n",
       "┡━━━━━━━━━━━━━━━━━━━━━━━━━━━━╇━━━━━━━━━━━━━━━━━━━━━━━╇━━━━━━━━━━━━━━━━━━━━━━━━━━━━━━━╇━━━━━━━━━━━━━━━┩\n",
       "│ Rerun on Aug 16, 22:33 PM  │  100.0% success (2/2) │ 2 datapoints, 2 unique inputs │ model=gpt-4   │\n",
       "│                            │                       │                               │ temperature=0 │\n",
       "├────────────────────────────┼───────────────────────┼───────────────────────────────┼───────────────┤\n",
       "│ Aug 16 22:33 PM - 22:33 PM │  0.0% success (0/2)   │ 2 datapoints, 2 unique inputs │               │\n",
       "└────────────────────────────┴───────────────────────┴───────────────────────────────┴───────────────┘\n",
       "</pre>\n"
      ],
      "text/plain": [
       "\u001b[3mSystem health for task: 'ask' (by Run History)                                                        \u001b[0m\n",
       "┏━━━━━━━━━━━━━━━━━━━━━━━━━━━━┳━━━━━━━━━━━━━━━━━━━━━━━┳━━━━━━━━━━━━━━━━━━━━━━━━━━━━━━━┳━━━━━━━━━━━━━━━┓\n",
       "┃\u001b[1m \u001b[0m\u001b[1mRun                       \u001b[0m\u001b[1m \u001b[0m┃\u001b[1m \u001b[0m\u001b[1mResults              \u001b[0m\u001b[1m \u001b[0m┃\u001b[1m \u001b[0m\u001b[1mStats                        \u001b[0m\u001b[1m \u001b[0m┃\u001b[1m \u001b[0m\u001b[1mParams       \u001b[0m\u001b[1m \u001b[0m┃\n",
       "┡━━━━━━━━━━━━━━━━━━━━━━━━━━━━╇━━━━━━━━━━━━━━━━━━━━━━━╇━━━━━━━━━━━━━━━━━━━━━━━━━━━━━━━╇━━━━━━━━━━━━━━━┩\n",
       "│ Rerun on Aug 16, 22:33 PM  │  100.0% success (2/2) │ 2 datapoints, 2 unique inputs │ model=gpt-4   │\n",
       "│                            │                       │                               │ temperature=0 │\n",
       "├────────────────────────────┼───────────────────────┼───────────────────────────────┼───────────────┤\n",
       "│ Aug 16 22:33 PM - 22:33 PM │  0.0% success (0/2)   │ 2 datapoints, 2 unique inputs │               │\n",
       "└────────────────────────────┴───────────────────────┴───────────────────────────────┴───────────────┘\n"
      ]
     },
     "metadata": {},
     "output_type": "display_data"
    },
    {
     "data": {
      "text/html": [
       "<pre style=\"white-space:pre;overflow-x:auto;line-height:normal;font-family:Menlo,'DejaVu Sans Mono',consolas,'Courier New',monospace\">\n",
       "A per input breakdown can be found here: <a href=\"file:///Users/thepanda/Repos/eyeball_pp/examples/eyeball_data/ask/per_input_breakdown.md\" target=\"_blank\">per_input_breakdown.md</a>\n",
       "</pre>\n"
      ],
      "text/plain": [
       "\n",
       "A per input breakdown can be found here: \u001b]8;id=269831;file:///Users/thepanda/Repos/eyeball_pp/examples/eyeball_data/ask/per_input_breakdown.md\u001b\\per_input_breakdown.md\u001b]8;;\u001b\\\n"
      ]
     },
     "metadata": {},
     "output_type": "display_data"
    }
   ],
   "source": [
    "from eyeball_pp import Criteria\n",
    "\n",
    "eyeball_pp.evaluate_system(\n",
    "    grading_criteria=[Criteria.CORRECTNESS],\n",
    "    grading_criteria_custom={\"relevance\": \"Is the response correctly using the information in the context?\"}\n",
    ")"
   ]
  }
 ],
 "metadata": {
  "kernelspec": {
   "display_name": "venv",
   "language": "python",
   "name": "python3"
  },
  "language_info": {
   "codemirror_mode": {
    "name": "ipython",
    "version": 3
   },
   "file_extension": ".py",
   "mimetype": "text/x-python",
   "name": "python",
   "nbconvert_exporter": "python",
   "pygments_lexer": "ipython3",
   "version": "3.9.13"
  },
  "orig_nbformat": 4
 },
 "nbformat": 4,
 "nbformat_minor": 2
}
